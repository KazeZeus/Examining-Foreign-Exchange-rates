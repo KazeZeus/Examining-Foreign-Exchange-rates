{
 "cells": [
  {
   "cell_type": "code",
   "execution_count": 1,
   "metadata": {},
   "outputs": [],
   "source": [
    "import pandas as pd"
   ]
  },
  {
   "cell_type": "code",
   "execution_count": 2,
   "metadata": {},
   "outputs": [],
   "source": [
    "df = pd.read_csv(\"transformed.csv\")"
   ]
  },
  {
   "cell_type": "markdown",
   "metadata": {},
   "source": [
    "SELECTED JAPAN INDIA CHINA AND AUSTRALIA TO WORK ON"
   ]
  },
  {
   "cell_type": "code",
   "execution_count": 3,
   "metadata": {},
   "outputs": [
    {
     "data": {
      "text/html": [
       "<div>\n",
       "<style scoped>\n",
       "    .dataframe tbody tr th:only-of-type {\n",
       "        vertical-align: middle;\n",
       "    }\n",
       "\n",
       "    .dataframe tbody tr th {\n",
       "        vertical-align: top;\n",
       "    }\n",
       "\n",
       "    .dataframe thead th {\n",
       "        text-align: right;\n",
       "    }\n",
       "</style>\n",
       "<table border=\"1\" class=\"dataframe\">\n",
       "  <thead>\n",
       "    <tr style=\"text-align: right;\">\n",
       "      <th></th>\n",
       "      <th>Unnamed: 0</th>\n",
       "      <th>AUSTRALIA - AUSTRALIAN DOLLAR/US$</th>\n",
       "      <th>EURO AREA - EURO/US$</th>\n",
       "      <th>NEW ZEALAND - NEW ZELAND DOLLAR/US$</th>\n",
       "      <th>UNITED KINGDOM - UNITED KINGDOM POUND/US$</th>\n",
       "      <th>BRAZIL - REAL/US$</th>\n",
       "      <th>CANADA - CANADIAN DOLLAR/US$</th>\n",
       "      <th>CHINA - YUAN/US$</th>\n",
       "      <th>HONG KONG - HONG KONG DOLLAR/US$</th>\n",
       "      <th>INDIA - INDIAN RUPEE/US$</th>\n",
       "      <th>...</th>\n",
       "      <th>DENMARK - DANISH KRONE/US$</th>\n",
       "      <th>JAPAN - YEN/US$</th>\n",
       "      <th>MALAYSIA - RINGGIT/US$</th>\n",
       "      <th>NORWAY - NORWEGIAN KRONE/US$</th>\n",
       "      <th>SWEDEN - KRONA/US$</th>\n",
       "      <th>SRI LANKA - SRI LANKAN RUPEE/US$</th>\n",
       "      <th>SWITZERLAND - FRANC/US$</th>\n",
       "      <th>TAIWAN - NEW TAIWAN DOLLAR/US$</th>\n",
       "      <th>THAILAND - BAHT/US$</th>\n",
       "      <th>date</th>\n",
       "    </tr>\n",
       "  </thead>\n",
       "  <tbody>\n",
       "    <tr>\n",
       "      <th>0</th>\n",
       "      <td>0</td>\n",
       "      <td>1.5172</td>\n",
       "      <td>0.9847</td>\n",
       "      <td>1.9033</td>\n",
       "      <td>0.6146</td>\n",
       "      <td>1.805</td>\n",
       "      <td>1.4465</td>\n",
       "      <td>8.2798</td>\n",
       "      <td>7.7765</td>\n",
       "      <td>43.55</td>\n",
       "      <td>...</td>\n",
       "      <td>7.329</td>\n",
       "      <td>101.7</td>\n",
       "      <td>3.8</td>\n",
       "      <td>7.964</td>\n",
       "      <td>8.443</td>\n",
       "      <td>72.3</td>\n",
       "      <td>1.5808</td>\n",
       "      <td>31.38</td>\n",
       "      <td>36.97</td>\n",
       "      <td>2000-01-03</td>\n",
       "    </tr>\n",
       "    <tr>\n",
       "      <th>1</th>\n",
       "      <td>1</td>\n",
       "      <td>1.5239</td>\n",
       "      <td>0.97</td>\n",
       "      <td>1.9238</td>\n",
       "      <td>0.6109</td>\n",
       "      <td>1.8405</td>\n",
       "      <td>1.4518</td>\n",
       "      <td>8.2799</td>\n",
       "      <td>7.7775</td>\n",
       "      <td>43.55</td>\n",
       "      <td>...</td>\n",
       "      <td>7.218</td>\n",
       "      <td>103.09</td>\n",
       "      <td>3.8</td>\n",
       "      <td>7.934</td>\n",
       "      <td>8.36</td>\n",
       "      <td>72.65</td>\n",
       "      <td>1.5565</td>\n",
       "      <td>30.6</td>\n",
       "      <td>37.13</td>\n",
       "      <td>2000-01-04</td>\n",
       "    </tr>\n",
       "    <tr>\n",
       "      <th>2</th>\n",
       "      <td>2</td>\n",
       "      <td>1.5267</td>\n",
       "      <td>0.9676</td>\n",
       "      <td>1.9339</td>\n",
       "      <td>0.6092</td>\n",
       "      <td>1.856</td>\n",
       "      <td>1.4518</td>\n",
       "      <td>8.2798</td>\n",
       "      <td>7.778</td>\n",
       "      <td>43.55</td>\n",
       "      <td>...</td>\n",
       "      <td>7.208</td>\n",
       "      <td>103.77</td>\n",
       "      <td>3.8</td>\n",
       "      <td>7.935</td>\n",
       "      <td>8.353</td>\n",
       "      <td>72.95</td>\n",
       "      <td>1.5526</td>\n",
       "      <td>30.8</td>\n",
       "      <td>37.1</td>\n",
       "      <td>2000-01-05</td>\n",
       "    </tr>\n",
       "    <tr>\n",
       "      <th>3</th>\n",
       "      <td>3</td>\n",
       "      <td>1.5291</td>\n",
       "      <td>0.9686</td>\n",
       "      <td>1.9436</td>\n",
       "      <td>0.607</td>\n",
       "      <td>1.84</td>\n",
       "      <td>1.4571</td>\n",
       "      <td>8.2797</td>\n",
       "      <td>7.7785</td>\n",
       "      <td>43.55</td>\n",
       "      <td>...</td>\n",
       "      <td>7.2125</td>\n",
       "      <td>105.19</td>\n",
       "      <td>3.8</td>\n",
       "      <td>7.94</td>\n",
       "      <td>8.3675</td>\n",
       "      <td>72.95</td>\n",
       "      <td>1.554</td>\n",
       "      <td>31.75</td>\n",
       "      <td>37.62</td>\n",
       "      <td>2000-01-06</td>\n",
       "    </tr>\n",
       "    <tr>\n",
       "      <th>4</th>\n",
       "      <td>4</td>\n",
       "      <td>1.5272</td>\n",
       "      <td>0.9714</td>\n",
       "      <td>1.938</td>\n",
       "      <td>0.6104</td>\n",
       "      <td>1.831</td>\n",
       "      <td>1.4505</td>\n",
       "      <td>8.2794</td>\n",
       "      <td>7.7783</td>\n",
       "      <td>43.55</td>\n",
       "      <td>...</td>\n",
       "      <td>7.2285</td>\n",
       "      <td>105.17</td>\n",
       "      <td>3.8</td>\n",
       "      <td>7.966</td>\n",
       "      <td>8.415</td>\n",
       "      <td>73.15</td>\n",
       "      <td>1.5623</td>\n",
       "      <td>30.85</td>\n",
       "      <td>37.3</td>\n",
       "      <td>2000-01-07</td>\n",
       "    </tr>\n",
       "  </tbody>\n",
       "</table>\n",
       "<p>5 rows × 24 columns</p>\n",
       "</div>"
      ],
      "text/plain": [
       "   Unnamed: 0 AUSTRALIA - AUSTRALIAN DOLLAR/US$ EURO AREA - EURO/US$  \\\n",
       "0           0                            1.5172               0.9847   \n",
       "1           1                            1.5239                 0.97   \n",
       "2           2                            1.5267               0.9676   \n",
       "3           3                            1.5291               0.9686   \n",
       "4           4                            1.5272               0.9714   \n",
       "\n",
       "  NEW ZEALAND - NEW ZELAND DOLLAR/US$  \\\n",
       "0                              1.9033   \n",
       "1                              1.9238   \n",
       "2                              1.9339   \n",
       "3                              1.9436   \n",
       "4                               1.938   \n",
       "\n",
       "  UNITED KINGDOM - UNITED KINGDOM POUND/US$ BRAZIL - REAL/US$  \\\n",
       "0                                    0.6146             1.805   \n",
       "1                                    0.6109            1.8405   \n",
       "2                                    0.6092             1.856   \n",
       "3                                     0.607              1.84   \n",
       "4                                    0.6104             1.831   \n",
       "\n",
       "  CANADA - CANADIAN DOLLAR/US$ CHINA - YUAN/US$  \\\n",
       "0                       1.4465           8.2798   \n",
       "1                       1.4518           8.2799   \n",
       "2                       1.4518           8.2798   \n",
       "3                       1.4571           8.2797   \n",
       "4                       1.4505           8.2794   \n",
       "\n",
       "  HONG KONG - HONG KONG DOLLAR/US$ INDIA - INDIAN RUPEE/US$  ...  \\\n",
       "0                           7.7765                    43.55  ...   \n",
       "1                           7.7775                    43.55  ...   \n",
       "2                            7.778                    43.55  ...   \n",
       "3                           7.7785                    43.55  ...   \n",
       "4                           7.7783                    43.55  ...   \n",
       "\n",
       "  DENMARK - DANISH KRONE/US$ JAPAN - YEN/US$ MALAYSIA - RINGGIT/US$  \\\n",
       "0                      7.329           101.7                    3.8   \n",
       "1                      7.218          103.09                    3.8   \n",
       "2                      7.208          103.77                    3.8   \n",
       "3                     7.2125          105.19                    3.8   \n",
       "4                     7.2285          105.17                    3.8   \n",
       "\n",
       "  NORWAY - NORWEGIAN KRONE/US$ SWEDEN - KRONA/US$  \\\n",
       "0                        7.964              8.443   \n",
       "1                        7.934               8.36   \n",
       "2                        7.935              8.353   \n",
       "3                         7.94             8.3675   \n",
       "4                        7.966              8.415   \n",
       "\n",
       "  SRI LANKA - SRI LANKAN RUPEE/US$ SWITZERLAND - FRANC/US$  \\\n",
       "0                             72.3                  1.5808   \n",
       "1                            72.65                  1.5565   \n",
       "2                            72.95                  1.5526   \n",
       "3                            72.95                   1.554   \n",
       "4                            73.15                  1.5623   \n",
       "\n",
       "  TAIWAN - NEW TAIWAN DOLLAR/US$ THAILAND - BAHT/US$        date  \n",
       "0                          31.38               36.97  2000-01-03  \n",
       "1                           30.6               37.13  2000-01-04  \n",
       "2                           30.8                37.1  2000-01-05  \n",
       "3                          31.75               37.62  2000-01-06  \n",
       "4                          30.85                37.3  2000-01-07  \n",
       "\n",
       "[5 rows x 24 columns]"
      ]
     },
     "execution_count": 3,
     "metadata": {},
     "output_type": "execute_result"
    }
   ],
   "source": [
    "df.head()"
   ]
  },
  {
   "cell_type": "code",
   "execution_count": 4,
   "metadata": {},
   "outputs": [],
   "source": [
    "japan = df['JAPAN - YEN/US$']"
   ]
  },
  {
   "cell_type": "code",
   "execution_count": 5,
   "metadata": {},
   "outputs": [],
   "source": [
    "india = df['INDIA - INDIAN RUPEE/US$']"
   ]
  },
  {
   "cell_type": "code",
   "execution_count": 6,
   "metadata": {},
   "outputs": [],
   "source": [
    "china = df['CHINA - YUAN/US$']"
   ]
  },
  {
   "cell_type": "code",
   "execution_count": 7,
   "metadata": {},
   "outputs": [],
   "source": [
    "aus = df['AUSTRALIA - AUSTRALIAN DOLLAR/US$']"
   ]
  },
  {
   "cell_type": "code",
   "execution_count": 34,
   "metadata": {},
   "outputs": [],
   "source": [
    "df_new = pd.DataFrame(\n",
    "    {\n",
    "        \"date\": df['date'],\n",
    "        \"Japan\": japan,\n",
    "        \"India\": india,\n",
    "        \"China\": china,\n",
    "        \"Australia\": aus,\n",
    "    }\n",
    ")"
   ]
  },
  {
   "cell_type": "markdown",
   "metadata": {},
   "source": [
    "CREATED A NEW AND MORE USABLE DATA SET"
   ]
  },
  {
   "cell_type": "code",
   "execution_count": 35,
   "metadata": {},
   "outputs": [
    {
     "data": {
      "text/plain": [
       "date         object\n",
       "Japan        object\n",
       "India        object\n",
       "China        object\n",
       "Australia    object\n",
       "dtype: object"
      ]
     },
     "execution_count": 35,
     "metadata": {},
     "output_type": "execute_result"
    }
   ],
   "source": [
    "df_new.dtypes"
   ]
  },
  {
   "cell_type": "code",
   "execution_count": 36,
   "metadata": {},
   "outputs": [
    {
     "data": {
      "text/plain": [
       "(5217, 5)"
      ]
     },
     "execution_count": 36,
     "metadata": {},
     "output_type": "execute_result"
    }
   ],
   "source": [
    "df_new.shape"
   ]
  },
  {
   "cell_type": "code",
   "execution_count": 42,
   "metadata": {},
   "outputs": [],
   "source": [
    "dfn = df_new.drop('date',axis=1)"
   ]
  },
  {
   "cell_type": "markdown",
   "metadata": {},
   "source": [
    "NOW REMOVED ALL NULL OR NOT DEFINED VALUES"
   ]
  },
  {
   "cell_type": "code",
   "execution_count": 43,
   "metadata": {},
   "outputs": [],
   "source": [
    "dfn = dfn[dfn['India']!='ND'] "
   ]
  },
  {
   "cell_type": "code",
   "execution_count": 44,
   "metadata": {},
   "outputs": [],
   "source": [
    "dfn = dfn[dfn['China']!='ND']\n",
    "dfn = dfn[dfn['Japan']!='ND']\n",
    "dfn = dfn[dfn['Australia']!='ND']"
   ]
  },
  {
   "cell_type": "code",
   "execution_count": 45,
   "metadata": {},
   "outputs": [
    {
     "data": {
      "text/plain": [
       "(5018, 4)"
      ]
     },
     "execution_count": 45,
     "metadata": {},
     "output_type": "execute_result"
    }
   ],
   "source": [
    "dfn.shape"
   ]
  },
  {
   "cell_type": "code",
   "execution_count": 46,
   "metadata": {
    "collapsed": true
   },
   "outputs": [
    {
     "data": {
      "text/html": [
       "<div>\n",
       "<style scoped>\n",
       "    .dataframe tbody tr th:only-of-type {\n",
       "        vertical-align: middle;\n",
       "    }\n",
       "\n",
       "    .dataframe tbody tr th {\n",
       "        vertical-align: top;\n",
       "    }\n",
       "\n",
       "    .dataframe thead th {\n",
       "        text-align: right;\n",
       "    }\n",
       "</style>\n",
       "<table border=\"1\" class=\"dataframe\">\n",
       "  <thead>\n",
       "    <tr style=\"text-align: right;\">\n",
       "      <th></th>\n",
       "      <th>Japan</th>\n",
       "      <th>India</th>\n",
       "      <th>China</th>\n",
       "      <th>Australia</th>\n",
       "    </tr>\n",
       "  </thead>\n",
       "  <tbody>\n",
       "    <tr>\n",
       "      <th>0</th>\n",
       "      <td>101.699997</td>\n",
       "      <td>43.549999</td>\n",
       "      <td>8.2798</td>\n",
       "      <td>1.5172</td>\n",
       "    </tr>\n",
       "    <tr>\n",
       "      <th>1</th>\n",
       "      <td>103.089996</td>\n",
       "      <td>43.549999</td>\n",
       "      <td>8.2799</td>\n",
       "      <td>1.5239</td>\n",
       "    </tr>\n",
       "    <tr>\n",
       "      <th>2</th>\n",
       "      <td>103.769997</td>\n",
       "      <td>43.549999</td>\n",
       "      <td>8.2798</td>\n",
       "      <td>1.5267</td>\n",
       "    </tr>\n",
       "    <tr>\n",
       "      <th>3</th>\n",
       "      <td>105.190002</td>\n",
       "      <td>43.549999</td>\n",
       "      <td>8.2797</td>\n",
       "      <td>1.5291</td>\n",
       "    </tr>\n",
       "    <tr>\n",
       "      <th>4</th>\n",
       "      <td>105.169998</td>\n",
       "      <td>43.549999</td>\n",
       "      <td>8.2794</td>\n",
       "      <td>1.5272</td>\n",
       "    </tr>\n",
       "    <tr>\n",
       "      <th>...</th>\n",
       "      <td>...</td>\n",
       "      <td>...</td>\n",
       "      <td>...</td>\n",
       "      <td>...</td>\n",
       "    </tr>\n",
       "    <tr>\n",
       "      <th>5211</th>\n",
       "      <td>109.379997</td>\n",
       "      <td>71.230003</td>\n",
       "      <td>7.0064</td>\n",
       "      <td>1.4445</td>\n",
       "    </tr>\n",
       "    <tr>\n",
       "      <th>5213</th>\n",
       "      <td>109.669998</td>\n",
       "      <td>71.279999</td>\n",
       "      <td>6.9949</td>\n",
       "      <td>1.4411</td>\n",
       "    </tr>\n",
       "    <tr>\n",
       "      <th>5214</th>\n",
       "      <td>109.470001</td>\n",
       "      <td>71.449997</td>\n",
       "      <td>6.9954</td>\n",
       "      <td>1.4331</td>\n",
       "    </tr>\n",
       "    <tr>\n",
       "      <th>5215</th>\n",
       "      <td>108.849998</td>\n",
       "      <td>71.300003</td>\n",
       "      <td>6.9864</td>\n",
       "      <td>1.4278</td>\n",
       "    </tr>\n",
       "    <tr>\n",
       "      <th>5216</th>\n",
       "      <td>108.669998</td>\n",
       "      <td>71.360001</td>\n",
       "      <td>6.9618</td>\n",
       "      <td>1.4225</td>\n",
       "    </tr>\n",
       "  </tbody>\n",
       "</table>\n",
       "<p>5018 rows × 4 columns</p>\n",
       "</div>"
      ],
      "text/plain": [
       "           Japan      India   China  Australia\n",
       "0     101.699997  43.549999  8.2798     1.5172\n",
       "1     103.089996  43.549999  8.2799     1.5239\n",
       "2     103.769997  43.549999  8.2798     1.5267\n",
       "3     105.190002  43.549999  8.2797     1.5291\n",
       "4     105.169998  43.549999  8.2794     1.5272\n",
       "...          ...        ...     ...        ...\n",
       "5211  109.379997  71.230003  7.0064     1.4445\n",
       "5213  109.669998  71.279999  6.9949     1.4411\n",
       "5214  109.470001  71.449997  6.9954     1.4331\n",
       "5215  108.849998  71.300003  6.9864     1.4278\n",
       "5216  108.669998  71.360001  6.9618     1.4225\n",
       "\n",
       "[5018 rows x 4 columns]"
      ]
     },
     "execution_count": 46,
     "metadata": {},
     "output_type": "execute_result"
    }
   ],
   "source": [
    "dfn.astype('float32')"
   ]
  },
  {
   "cell_type": "code",
   "execution_count": 47,
   "metadata": {},
   "outputs": [],
   "source": [
    "dfn['date'] = df_new['date']"
   ]
  },
  {
   "cell_type": "markdown",
   "metadata": {},
   "source": [
    "MERGED COLUMNS "
   ]
  },
  {
   "cell_type": "code",
   "execution_count": null,
   "metadata": {},
   "outputs": [],
   "source": [
    "dfn.to_csv('train.csv', header=True, index=False)"
   ]
  }
 ],
 "metadata": {
  "kernelspec": {
   "display_name": "Python 3",
   "language": "python",
   "name": "python3"
  },
  "language_info": {
   "codemirror_mode": {
    "name": "ipython",
    "version": 3
   },
   "file_extension": ".py",
   "mimetype": "text/x-python",
   "name": "python",
   "nbconvert_exporter": "python",
   "pygments_lexer": "ipython3",
   "version": "3.7.7"
  }
 },
 "nbformat": 4,
 "nbformat_minor": 4
}
